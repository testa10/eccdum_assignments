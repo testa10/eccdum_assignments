{
  "cells": [
    {
      "cell_type": "markdown",
      "metadata": {
        "id": "IcZKOXND2pKu"
      },
      "source": [
        "# Notebook Overview\n",
        "\n",
        "In this notebook, you’ll explore essential Python concepts such as numbers, strings, lists, loops, and functions to strengthen your familiarity with them. Each exercise includes a description of the task, followed by a space where you will implement a solution.\n",
        "\n",
        "Once you’ve completed your implementation, the function will be automatically tested to ensure it works correctly. If successful, additional examples will be executed to further validate your solution."
      ]
    },
    {
      "cell_type": "markdown",
      "metadata": {
        "id": "E-zuwbpy2pKx"
      },
      "source": [
        "## \t1.\tRemove Vowels Function:\n",
        "Implement a function that removes all vowels from a given string.\n",
        "Example: \"hello\" → \"hll\""
      ]
    },
    {
      "cell_type": "code",
      "execution_count": 2,
      "metadata": {
        "vscode": {
          "languageId": "plaintext"
        },
        "id": "2Y4HoGAy2pKx"
      },
      "outputs": [],
      "source": [
        "\n",
        "def remove_vowels(text: str) -> str:\n",
        "    \"\"\"\n",
        "    This function removes all vowels from strings\n",
        "    Example: \"hello\" -> \"hll\"\n",
        "    \"\"\"\n",
        "\n",
        "    vowels = \"aeiouAEIOU\"\n",
        "    result = \"\"\n",
        "    for char in text:\n",
        "        if char not in vowels:\n",
        "            result += char\n",
        "    return result"
      ]
    },
    {
      "cell_type": "code",
      "execution_count": 3,
      "metadata": {
        "vscode": {
          "languageId": "plaintext"
        },
        "colab": {
          "base_uri": "https://localhost:8080/"
        },
        "id": "NDst781N2pKy",
        "outputId": "08a28e42-ebec-482d-b86b-bf30dba0ad18"
      },
      "outputs": [
        {
          "output_type": "stream",
          "name": "stdout",
          "text": [
            "st f n bn dí\n"
          ]
        }
      ],
      "source": [
        "\n",
        "assert remove_vowels(\"hola\") == \"hl\"\n",
        "answer_1  = remove_vowels(\"Este fue un buen día\")\n",
        "print(answer_1)"
      ]
    },
    {
      "cell_type": "markdown",
      "metadata": {
        "id": "U4bgiUjQ2pKz"
      },
      "source": [
        "# 2.\tSum List of Floats Function:\n",
        "Write a function that computes the element-wise sum of two lists of floats.\n",
        "Example: [1, 2, 3] + [4, 5, -2.3] → [5, 7, 0.7]"
      ]
    },
    {
      "cell_type": "code",
      "execution_count": 9,
      "metadata": {
        "vscode": {
          "languageId": "plaintext"
        },
        "id": "L5mtjCi42pKz"
      },
      "outputs": [],
      "source": [
        "import numpy as np\n",
        "\n",
        "def sum_list_of_floats(a: list, b:list) -> list:\n",
        "    \"\"\"\n",
        "    Returns the coordinate wise sum of a and b.\n",
        "    \"\"\"\n",
        "    if len(a) != len(b):\n",
        "        raise ValueError(\"las listas deben tener el mismo largo\")\n",
        "\n",
        "    result = []\n",
        "    for i in range(len(a)):\n",
        "        result.append(a[i] + b[i])\n",
        "    return result\n"
      ]
    },
    {
      "cell_type": "code",
      "execution_count": 12,
      "metadata": {
        "vscode": {
          "languageId": "plaintext"
        },
        "colab": {
          "base_uri": "https://localhost:8080/"
        },
        "id": "xCJIEgpv2pKz",
        "outputId": "6a7c7b6c-d759-49d8-d354-a6d3f3b5b52e"
      },
      "outputs": [
        {
          "output_type": "stream",
          "name": "stdout",
          "text": [
            "[1, -1]\n"
          ]
        }
      ],
      "source": [
        "assert np.allclose(\n",
        "    sum_list_of_floats(\n",
        "        [1, 2, 3], [4, 5, -2.3]),\n",
        "    [5, 7, 0.7]\n",
        ")\n",
        "answer_2 = sum_list_of_floats([0, 0], [1, -1])\n",
        "print(answer_2)"
      ]
    }
  ],
  "metadata": {
    "language_info": {
      "name": "python"
    },
    "colab": {
      "provenance": []
    },
    "kernelspec": {
      "name": "python3",
      "display_name": "Python 3"
    }
  },
  "nbformat": 4,
  "nbformat_minor": 0
}